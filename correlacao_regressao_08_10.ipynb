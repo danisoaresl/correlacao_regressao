{
  "nbformat": 4,
  "nbformat_minor": 0,
  "metadata": {
    "colab": {
      "private_outputs": true,
      "provenance": [],
      "authorship_tag": "ABX9TyNSlHzQAqj04HhEu8P3n2aI",
      "include_colab_link": true
    },
    "kernelspec": {
      "name": "python3",
      "display_name": "Python 3"
    },
    "language_info": {
      "name": "python"
    }
  },
  "cells": [
    {
      "cell_type": "markdown",
      "metadata": {
        "id": "view-in-github",
        "colab_type": "text"
      },
      "source": [
        "<a href=\"https://colab.research.google.com/github/danisoaresl/correlacao_regressao/blob/exercicio/correlacao_regressao_08_10.ipynb\" target=\"_parent\"><img src=\"https://colab.research.google.com/assets/colab-badge.svg\" alt=\"Open In Colab\"/></a>"
      ]
    },
    {
      "cell_type": "markdown",
      "source": [
        "Correlação e Regressão Simples/Multivariada"
      ],
      "metadata": {
        "id": "hQivZxFtljFs"
      }
    },
    {
      "cell_type": "markdown",
      "source": [
        "Desafio Final"
      ],
      "metadata": {
        "id": "8wK2G6qrljxK"
      }
    },
    {
      "cell_type": "markdown",
      "source": [
        "Sugestões de bibliotecas para serem utilizadas:\n",
        "Pandas, NumPy, Seaborn, Matplotlib, Statsmodels, Scipy"
      ],
      "metadata": {
        "id": "OUg-TpudlqJk"
      }
    },
    {
      "cell_type": "markdown",
      "source": [
        "Considerando a base de dados kc_house_data.csv responda as questões de 1\n",
        "a 6 abaixo:"
      ],
      "metadata": {
        "id": "z7rLn1AvlweA"
      }
    },
    {
      "cell_type": "markdown",
      "source": [
        "1. Codifique e exiba a matriz de correlação entre as variáveis numéricas.\n",
        "Além disso, qual é a correlação entre o preço price e o número de\n",
        "quartos bedrooms? Existe alguma diferença na correlação quando\n",
        "consideramos apenas casas com uma área total sqft_living superior a\n",
        "2000 pés quadrados?"
      ],
      "metadata": {
        "id": "T5zRSw35l-oC"
      }
    },
    {
      "cell_type": "code",
      "source": [
        "import pandas as pd\n",
        "import seaborn as sns\n",
        "import matplotlib.pyplot as plt\n",
        "\n",
        "from google.colab import drive\n",
        "drive.mount('/content/drive')\n",
        "\n",
        "# Carregar os dados\n",
        "df_ab = pd.read_csv('/content/drive/MyDrive/correlacao_regressao/kc_house_data.csv')\n",
        "\n",
        "# 1. Descrição Estatística\n",
        "print(df_ab.describe())\n",
        "\n",
        "# 2. Verificar tipos de dados e colunas não numéricas\n",
        "print(df_ab.dtypes)  # Mostra os tipos de dados de cada coluna\n",
        "\n",
        "# Se necessário, converter colunas para o tipo correto ou remover colunas não numéricas\n",
        "# Exemplo: se 'date' for uma coluna que causa problemas, você pode removê-la ou convertê-la\n",
        "df_ab['date'] = pd.to_datetime(df_ab['date'], errors='coerce')  # Converte 'date' para datetime\n",
        "\n",
        "# Verificar colunas após a conversão\n",
        "print(df_ab.dtypes)\n",
        "\n",
        "# 3. Matriz de Correlação\n",
        "# Selecionar apenas colunas numéricas\n",
        "correlation_matrix = df_ab.select_dtypes(include=['float64', 'int64']).corr()\n",
        "plt.figure(figsize=(10, 8))\n",
        "sns.heatmap(correlation_matrix, annot=True, fmt=\".2f\", cmap='coolwarm', square=True)\n",
        "plt.title('Matriz de Correlação')\n",
        "plt.show()\n",
        "\n",
        "# 4. Correlação entre price e bedrooms\n",
        "correlation_price_bedrooms = df_ab['price'].corr(df_ab['bedrooms'])\n",
        "print(f'Correlação entre preço e número de quartos: {correlation_price_bedrooms}')\n",
        "\n",
        "# 5. Filtrar casas com sqft_living > 2000 e calcular a correlação novamente\n",
        "filtered_houses = df_ab[df_ab['sqft_living'] > 2000]\n",
        "correlation_price_bedrooms_filtered = filtered_houses['price'].corr(filtered_houses['bedrooms'])\n",
        "print(f'Correlação entre preço e número de quartos para casas com sqft_living > 2000: {correlation_price_bedrooms_filtered}')\n",
        "\n",
        "# 6. Gráficos de Dispersão\n",
        "plt.figure(figsize=(12, 6))\n",
        "\n",
        "# Todas as casas\n",
        "plt.subplot(1, 2, 1)\n",
        "sns.scatterplot(x='bedrooms', y='price', data=df_ab)\n",
        "plt.title('Preço vs. Número de Quartos (Todas as Casas)')\n",
        "plt.xlabel('Número de Quartos')\n",
        "plt.ylabel('Preço')\n",
        "\n",
        "# Casas com sqft_living > 2000\n",
        "plt.subplot(1, 2, 2)\n",
        "sns.scatterplot(x='bedrooms', y='price', data=filtered_houses)\n",
        "plt.title('Preço vs. Número de Quartos (sqft_living > 2000)')\n",
        "plt.xlabel('Número de Quartos')\n",
        "plt.ylabel('Preço')\n",
        "\n",
        "plt.tight_layout()\n",
        "plt.show()\n",
        "\n",
        "# 7. Histogramas de price e bedrooms\n",
        "plt.figure(figsize=(12, 6))\n",
        "plt.subplot(1, 2, 1)\n",
        "sns.histplot(df_ab['price'], bins=30, kde=True)\n",
        "plt.title('Distribuição do Preço')\n",
        "plt.xlabel('Preço')\n",
        "\n",
        "plt.subplot(1, 2, 2)\n",
        "sns.histplot(df_ab['bedrooms'], bins=10, kde=True)\n",
        "plt.title('Distribuição do Número de Quartos')\n",
        "plt.xlabel('Número de Quartos')\n",
        "\n",
        "plt.tight_layout()\n",
        "plt.show()\n",
        "\n",
        "# 8. Boxplot para identificar outliers\n",
        "plt.figure(figsize=(8, 5))\n",
        "sns.boxplot(x='bedrooms', y='price', data=df_ab)\n",
        "plt.title('Boxplot de Preço por Número de Quartos')\n",
        "plt.xlabel('Número de Quartos')\n",
        "plt.ylabel('Preço')\n",
        "plt.show()\n"
      ],
      "metadata": {
        "id": "JFnaQhHM1XYd"
      },
      "execution_count": null,
      "outputs": []
    },
    {
      "cell_type": "markdown",
      "source": [
        "OBS.:Explicação do Resultado da Correlação entre Preço e Número de Quartos.\n",
        "\n",
        "O coeficiente de correlação entre price e bedrooms para todas as casas é de aproximadamente 0.299, o que indica uma correlação positiva, mas não muito forte.\n",
        "Isso significa que, em geral, à medida que o número de quartos aumenta, o preço tende a aumentar também, mas o número de quartos sozinho não é um fator determinante para o preço.\n",
        "Já para as casas com sqft_living > 2000, a correlação é ainda menor (0.119), o que sugere que, para essas casas maiores, o número de quartos tem uma influência ainda mais reduzida no preço."
      ],
      "metadata": {
        "id": "KAmm7cYOpLoX"
      }
    },
    {
      "cell_type": "markdown",
      "source": [
        "2. Existe alguma correlação entre o preço price e a área total da casa\n",
        "sqft_living, considerando apenas casas com pelo menos dois\n",
        "banheiros bathrooms?"
      ],
      "metadata": {
        "id": "kkedsxDnmHpU"
      }
    },
    {
      "cell_type": "markdown",
      "source": [
        "OBS.:Explicação de como fazer: Podemos calcular a correlação entre price e sqft_living para casas que têm pelo menos dois banheiros (bathrooms >= 2). Para isso, vamos filtrar o DataFrame e, em seguida, calcular a correlação."
      ],
      "metadata": {
        "id": "7sXjDrJBpih-"
      }
    },
    {
      "cell_type": "code",
      "source": [
        "# Filtrar casas com pelo menos dois banheiros\n",
        "houses_with_two_bathrooms = df_ab[df_ab['bathrooms'] >= 2]\n",
        "\n",
        "# Calcular a correlação entre preço e área total da casa\n",
        "correlation_price_sqft = houses_with_two_bathrooms['price'].corr(houses_with_two_bathrooms['sqft_living'])\n",
        "print(f'Correlação entre preço e área total da casa para casas com pelo menos dois banheiros: {correlation_price_sqft}')\n"
      ],
      "metadata": {
        "id": "F6lH_gYhmLkd"
      },
      "execution_count": null,
      "outputs": []
    },
    {
      "cell_type": "markdown",
      "source": [
        "OBS.: Explicação do resultado: Esse valor de 0.707 indica uma correlação positiva forte entre o preço (price) e a área total da casa (sqft_living) para casas com pelo menos dois banheiros. Em outras palavras, conforme a área total aumenta, o preço também tende a aumentar de forma significativa.\n",
        "\n",
        "Esse resultado sugere que, para casas com dois ou mais banheiros, a área total (sqft_living) é um fator determinante no valor do imóvel, mais do que o número de quartos, que apresentou uma correlação mais fraca."
      ],
      "metadata": {
        "id": "1pMmApezqIGa"
      }
    },
    {
      "cell_type": "markdown",
      "source": [
        "3. Como a quantidade de banheiros bathrooms influencia na correlação\n",
        "entre a área total da casa sqft_living e o preço price?"
      ],
      "metadata": {
        "id": "Z5iTuiYlmMS-"
      }
    },
    {
      "cell_type": "markdown",
      "source": [
        "OBS.:Explicação de como fazer: Para entender como a quantidade de banheiros influencia na correlação entre a área total da casa (sqft_living) e o preço (price), podemos analisar a correlação entre essas variáveis separadamente, para diferentes faixas de número de banheiros. Esse processo nos ajudará a identificar se a correlação se torna mais forte ou mais fraca conforme o número de banheiros aumenta.\n",
        "\n",
        "Vamos dividir o dataset em grupos baseados no número de banheiros e calcular a correlação entre sqft_living e price em cada grupo:"
      ],
      "metadata": {
        "id": "QOSA3ELcqke4"
      }
    },
    {
      "cell_type": "code",
      "source": [
        "# Lista para armazenar os resultados de correlação para cada quantidade de banheiros\n",
        "bathroom_corr = []\n",
        "\n",
        "# Loop para calcular a correlação para cada valor único de 'bathrooms'\n",
        "for bathrooms in sorted(df_ab['bathrooms'].unique()):\n",
        "    # Filtra o dataframe para cada valor de 'bathrooms'\n",
        "    filtered_df = df_ab[df_ab['bathrooms'] == bathrooms]\n",
        "    # Calcula a correlação entre 'sqft_living' e 'price'\n",
        "    corr = filtered_df['sqft_living'].corr(filtered_df['price'])\n",
        "    # Adiciona o valor de correlação e o número de banheiros na lista\n",
        "    bathroom_corr.append((bathrooms, corr))\n",
        "\n",
        "# Exibe os resultados\n",
        "for bathrooms, corr in bathroom_corr:\n",
        "    print(f'Correlação entre sqft_living e price para {bathrooms} banheiros: {corr}')\n"
      ],
      "metadata": {
        "id": "rlmoA4AWmQUY"
      },
      "execution_count": null,
      "outputs": []
    },
    {
      "cell_type": "markdown",
      "source": [
        "OBS.: Explicação do resultado: Após obter esses valores, você pode interpretar da seguinte forma:\n",
        "\n",
        "Se a correlação entre sqft_living e price aumenta com o número de banheiros, isso indica que, para casas maiores com mais banheiros, a área total influencia mais fortemente o preço.\n",
        "\n",
        "Se a correlação diminui ou permanece a mesma, então a área total da casa tem um impacto mais consistente no preço, independentemente do número de banheiros.\n",
        "\n",
        "Geralmente, ao aumentar o número de banheiros, é provável que a correlação entre sqft_living e price aumente, já que casas maiores com mais banheiros tendem a ser mais caras. Contudo, o resultado pode variar dependendo do dataset específico."
      ],
      "metadata": {
        "id": "9YQT45Uiq7Xn"
      }
    },
    {
      "cell_type": "markdown",
      "source": [
        "RESPOSTA: A quantidade de banheiros impacta diretamente a correlação entre a área total da casa (sqft_living) e o preço (price). Observa-se que:\n",
        "\n",
        "Para poucas quantidades de banheiros (por exemplo, de 0.5 a 1.75 banheiros), a correlação é relativamente baixa, sugerindo uma conexão menos intensa entre a área total e o preço.\n",
        "\n",
        "A partir de 2 banheiros, a correlação começa a aumentar, indicando uma associação mais forte entre a área total e o preço para casas com mais banheiros.\n",
        "\n",
        "Em valores mais altos de banheiros (de 4.5 até 6 banheiros), a correlação se aproxima ou atinge 1.0, o que sugere que, para casas maiores e mais luxuosas, a área total é um fator altamente correlacionado com o preço.\n",
        "\n",
        "Portanto, quanto mais banheiros uma casa possui, maior tende a ser a correlação entre a área total e o preço, o que sugere que casas maiores e de maior valor geralmente têm mais banheiros e que a área total é um importante fator de valorização dessas propriedades."
      ],
      "metadata": {
        "id": "cD5C9n0rraMA"
      }
    },
    {
      "cell_type": "markdown",
      "source": [
        "4. Qual é a relação entre a condição da casa condition e o preço price,\n",
        "considerando apenas casas com uma área total sqft_living superior a\n",
        "3000 pés quadrados?"
      ],
      "metadata": {
        "id": "3alhGXW8pU_h"
      }
    },
    {
      "cell_type": "markdown",
      "source": [
        "OBS.:Para calcular a correlação:\n",
        "1.Filtrar os Dados: Primeiro, selecione apenas as casas onde sqft_living > 3000.\n",
        "2.Calcular a Correlação: Em seguida, calcule a correlação entre as colunas condition e price usando os dados filtrados.\n",
        "3.Esse código fornecerá a correlação para que possamos entender a relação entre a condição da casa e o preço para imóveis de grande porte."
      ],
      "metadata": {
        "id": "nVSxV5OptLtd"
      }
    },
    {
      "cell_type": "code",
      "source": [
        "# Filtrar as casas com área total superior a 3000 pés quadrados\n",
        "casas_grandes = df_ab[df_ab['sqft_living'] > 3000]\n",
        "\n",
        "# Calcular a correlação entre condição e preço para essas casas\n",
        "correlacao_condition_price = casas_grandes['condition'].corr(casas_grandes['price'])\n",
        "print(\"Correlação entre condition e price para casas com sqft_living > 3000:\", correlacao_condition_price)\n"
      ],
      "metadata": {
        "id": "FeGgBDLMpZl0"
      },
      "execution_count": null,
      "outputs": []
    },
    {
      "cell_type": "markdown",
      "source": [
        "RESPOSTA: Correlação Positiva: O valor de 0.1053 sugere uma correlação positiva fraca entre a condição da casa e o preço. Isso significa que, embora haja uma tendência de que casas em melhores condições tendam a ter preços mais altos, a relação não é muito forte.\n",
        "\n",
        "Significado Prático: Essa correlação fraca pode indicar que, para casas maiores, o preço pode ser influenciado mais por outros fatores, como a área total, localização ou características específicas da casa, do que pela condição da casa.\n",
        "\n",
        "Resumo\n",
        "A condição da casa tem uma influência relativamente pequena no preço para imóveis com área total acima de 3000 pés quadrados, sugerindo que os compradores podem priorizar outras características além da condição ao determinar o preço.\n",
        "\n"
      ],
      "metadata": {
        "id": "8Ze19PejuUuH"
      }
    },
    {
      "cell_type": "markdown",
      "source": [
        "5. Existe alguma correlação entre a localização geográfica lat e long e o\n",
        "preço price para casas com pelo menos três quartos bedrooms?"
      ],
      "metadata": {
        "id": "YczgpDGYrGuO"
      }
    },
    {
      "cell_type": "markdown",
      "source": [
        "OBS.: Explicação de como fazer: 1.Filtrar as casas: Filtrar o DataFrame para incluir apenas casas com pelo menos três quartos.\n",
        "2.Calcular a correlação: Calcular a correlação entre a latitude (lat), longitude (long) e o preço (price)."
      ],
      "metadata": {
        "id": "3LdYXL6_upGE"
      }
    },
    {
      "cell_type": "code",
      "source": [
        "# Filtrar as casas com pelo menos três quartos\n",
        "casas_com_tres_quartos = df_ab[df_ab['bedrooms'] >= 3]\n",
        "\n",
        "# Calcular a correlação entre latitude, longitude e preço\n",
        "correlacao_lat_price = casas_com_tres_quartos['lat'].corr(casas_com_tres_quartos['price'])\n",
        "correlacao_long_price = casas_com_tres_quartos['long'].corr(casas_com_tres_quartos['price'])\n",
        "\n",
        "print(\"Correlação entre latitude e price para casas com pelo menos 3 quartos:\", correlacao_lat_price)\n",
        "print(\"Correlação entre longitude e price para casas com pelo menos 3 quartos:\", correlacao_long_price)\n"
      ],
      "metadata": {
        "id": "I65CVWaFrMnk"
      },
      "execution_count": null,
      "outputs": []
    },
    {
      "cell_type": "markdown",
      "source": [
        "OBS.: Interpretação dos Resultados:\n",
        "Após executar o código, você obterá dois valores de correlação: um para a latitude e outro para a longitude em relação ao preço das casas.\n",
        "\n",
        "Correlação Positiva: Um valor próximo de 1 sugere que, conforme a latitude ou longitude aumenta, o preço também tende a aumentar.\n",
        "\n",
        "Correlação Negativa: Um valor próximo de -1 sugere que, conforme a latitude ou longitude aumenta, o preço tende a diminuir.\n",
        "\n",
        "Correlação Próxima de Zero: Sugere que não há uma relação linear significativa entre a variável e o preço."
      ],
      "metadata": {
        "id": "nXXDZ2Cnu9xq"
      }
    },
    {
      "cell_type": "markdown",
      "source": [
        "RESPOSTA: Correlação entre Latitude e Preço:\n",
        "\n",
        "Valor: 0.3126 (aproximadamente)\n",
        "\n",
        "Interpretação: Existe uma correlação positiva moderada entre a latitude e o preço das casas. Isso sugere que, à medida que a latitude aumenta, o preço tende a aumentar também, embora a relação não seja extremamente forte.\n",
        "\n",
        "Correlação entre Longitude e Preço:\n",
        "\n",
        "Valor: -0.0073 (aproximadamente)\n",
        "\n",
        "Interpretação: A correlação entre a longitude e o preço é praticamente zero, o que indica que não há uma relação linear significativa entre essas duas variáveis. Assim, mudanças na longitude não parecem ter um impacto considerável sobre o preço das casas.\n",
        "\n",
        "Resumo da Análise\n",
        "\n",
        "A latitude tem uma relação positiva moderada com o preço, sugerindo que a localização geográfica (norte-sul) pode ser um fator que influencia os preços das casas.\n",
        "\n",
        "A longitude, por outro lado, não demonstra uma relação significativa com o preço, indicando que a posição leste-oeste não parece afetar os preços de maneira consistente para casas com pelo menos três quartos."
      ],
      "metadata": {
        "id": "gmVPbGvFvhmg"
      }
    },
    {
      "cell_type": "markdown",
      "source": [
        "6. Calcule a correlação entre uma variável categórica(waterfront) e uma\n",
        "variável numérica(price) usando ANOVA."
      ],
      "metadata": {
        "id": "BQqsNrSrrNB4"
      }
    },
    {
      "cell_type": "markdown",
      "source": [
        "OBS.:Explicação de como fazer:\n",
        "\n",
        "Para calcular a correlação entre uma variável categórica, como waterfront, e uma variável numérica, como price, você pode usar a ANOVA (Análise de Variância).\n",
        "A ANOVA é útil para verificar se há diferenças significativas nas médias da variável numérica entre os grupos definidos pela variável categórica.\n",
        "\n",
        "Aqui está um passo a passo de como fazer isso:\n",
        "\n",
        "Importar as bibliotecas necessárias.\n",
        "\n",
        "Filtrar os dados se necessário.\n",
        "\n",
        "Realizar a ANOVA usando o método apropriado (como o f_oneway da biblioteca scipy.stats).\n",
        "\n",
        "Interpretar os resultados."
      ],
      "metadata": {
        "id": "4GOrZcynwVJj"
      }
    },
    {
      "cell_type": "code",
      "source": [
        "\n"
      ],
      "metadata": {
        "id": "RNQu4medxkag"
      },
      "execution_count": null,
      "outputs": []
    },
    {
      "cell_type": "code",
      "source": [
        "\n"
      ],
      "metadata": {
        "id": "nN9OjwzTx_8z"
      },
      "execution_count": null,
      "outputs": []
    },
    {
      "cell_type": "code",
      "source": [
        "import pandas as pd\n",
        "from scipy import stats\n",
        "\n",
        "# Supõe que df_ab é o seu DataFrame com os dados\n",
        "\n",
        "# Converter a coluna waterfront\n",
        "df_ab['waterfront_numeric'] = df_ab['waterfront'].map({'n': 0, 'y': 1})\n",
        "\n",
        "# Separar os preços por grupos\n",
        "preco_sem_waterfront = df_ab[df_ab['waterfront'] == 'n']['price']\n",
        "preco_com_waterfront = df_ab[df_ab['waterfront'] == 'y']['price']\n",
        "\n",
        "# Verificar contagem de casas em cada grupo\n",
        "print(\"Contagem de casas sem waterfront:\", preco_sem_waterfront.count())\n",
        "print(\"Contagem de casas com waterfront:\", preco_com_waterfront.count())\n",
        "\n",
        "# Realizar ANOVA\n",
        "f_stat, p_value = stats.f_oneway(preco_sem_waterfront, preco_com_waterfront)\n",
        "\n",
        "print(\"Estatística F:\", f_stat)\n",
        "print(\"Valor-p:\", p_value)\n",
        "\n",
        "# Interpretação\n",
        "if p_value < 0.05:\n",
        "    print(\"Rejeitamos a hipótese nula: há diferença significativa entre os preços das casas com e sem waterfront.\")\n",
        "else:\n",
        "    print(\"Não rejeitamos a hipótese nula: não há diferença significativa entre os preços das casas com e sem waterfront.\")\n",
        "\n"
      ],
      "metadata": {
        "id": "DTT5lx8FrS5W"
      },
      "execution_count": null,
      "outputs": []
    },
    {
      "cell_type": "markdown",
      "source": [
        "OBS.: Interpretação dos Resultados\n",
        "\n",
        "Contagem de Casas: A grande diferença nas contagens entre casas com e sem waterfront (9920 vs. 79) sugere que a maioria das casas não possui waterfront.\n",
        "\n",
        "\n",
        "Estatística F: Um valor de F muito alto (964.57) indica que existe uma grande variação nos preços entre os dois grupos em comparação à variação dentro dos grupos. Isso sugere que a presença ou ausência de waterfront tem um impacto significativo nos preços.\n",
        "\n",
        "\n",
        "Valor-p: O valor-p extremamente baixo (próximo de zero) indica que há uma probabilidade muito baixa de que as diferenças observadas sejam devidas ao acaso.\n",
        "\n",
        "\n",
        "Conclusão: Como você rejeitou a hipótese nula, isso significa que há uma diferença significativa nos preços das casas com e sem waterfront. Em termos práticos, isso sugere que as casas com waterfront tendem a ter preços significativamente mais altos do que aquelas sem waterfront."
      ],
      "metadata": {
        "id": "Rm6V3hMQyq3P"
      }
    },
    {
      "cell_type": "markdown",
      "source": [
        "Calcular a Média e Mediana dos Preços.\n",
        "\n",
        "Primeiro, você pode calcular a média e a mediana dos preços das casas com e sem waterfront.\n"
      ],
      "metadata": {
        "id": "cAoIZ7WA00tR"
      }
    },
    {
      "cell_type": "code",
      "source": [
        "# Calcular a média e mediana dos preços\n",
        "media_preco = df_ab.groupby('waterfront')['price'].mean()\n",
        "mediana_preco = df_ab.groupby('waterfront')['price'].median()\n",
        "\n",
        "print(\"Média dos preços por waterfront:\")\n",
        "print(media_preco)\n",
        "print(\"\\nMediana dos preços por waterfront:\")\n",
        "print(mediana_preco)\n"
      ],
      "metadata": {
        "id": "4Czirhdt031C"
      },
      "execution_count": null,
      "outputs": []
    },
    {
      "cell_type": "markdown",
      "source": [
        "Criar Gráficos (Boxplots)\n",
        "\n",
        "Em seguida, vamos criar um boxplot para visualizar a distribuição dos preços em relação à presença de waterfront."
      ],
      "metadata": {
        "id": "4Ka9wJyh1B3J"
      }
    },
    {
      "cell_type": "code",
      "source": [
        "import matplotlib.pyplot as plt\n",
        "import seaborn as sns\n",
        "\n",
        "# Criar um boxplot\n",
        "plt.figure(figsize=(10, 6))\n",
        "sns.boxplot(x='waterfront', y='price', data=df_ab)\n",
        "plt.title('Distribuição dos Preços por Waterfront')\n",
        "plt.xlabel('Waterfront (n = Sem, y = Com)')\n",
        "plt.ylabel('Preço')\n",
        "plt.show()\n"
      ],
      "metadata": {
        "id": "ZWtEi5lg1EC9"
      },
      "execution_count": null,
      "outputs": []
    },
    {
      "cell_type": "markdown",
      "source": [
        "Analisar outras características das casas\n",
        "\n",
        "Para entender melhor o que pode influenciar o preço, você pode analisar outras variáveis como bedrooms, sqft_living, condition, lat, long, etc.\n",
        "\n",
        "Aqui está um exemplo para ver como o número de quartos (bedrooms) afeta o preço:"
      ],
      "metadata": {
        "id": "4aShJDvy1Qm0"
      }
    },
    {
      "cell_type": "markdown",
      "source": [
        "Calcular a Média de Preços por Número de Quartos"
      ],
      "metadata": {
        "id": "_duIxT5012Lz"
      }
    },
    {
      "cell_type": "code",
      "source": [
        "# Calcular a média de preços por número de quartos\n",
        "media_preco_bedrooms = df_ab.groupby('bedrooms')['price'].mean()\n",
        "print(\"Média dos preços por número de quartos:\")\n",
        "print(media_preco_bedrooms)\n"
      ],
      "metadata": {
        "id": "-kdmkUof1YQW"
      },
      "execution_count": null,
      "outputs": []
    },
    {
      "cell_type": "markdown",
      "source": [
        "Criar um Gráfico de Barras para Preços Médios por Número de Quartos"
      ],
      "metadata": {
        "id": "lXxrHkde2BQv"
      }
    },
    {
      "cell_type": "code",
      "source": [
        "# Criar um gráfico de barras\n",
        "plt.figure(figsize=(10, 6))\n",
        "media_preco_bedrooms.plot(kind='bar')\n",
        "plt.title('Média dos Preços por Número de Quartos')\n",
        "plt.xlabel('Número de Quartos')\n",
        "plt.ylabel('Média do Preço')\n",
        "plt.xticks(rotation=0)\n",
        "plt.show()\n"
      ],
      "metadata": {
        "id": "hmtQaDBm2Cqk"
      },
      "execution_count": null,
      "outputs": []
    },
    {
      "cell_type": "markdown",
      "source": [
        "Análise de Correlação\n",
        "\n",
        "Você também pode calcular a correlação entre o preço e outras variáveis numéricas (por exemplo, sqft_living, condition, lat, long) para ver quais têm uma relação mais forte com o preço."
      ],
      "metadata": {
        "id": "ulNROFcf3zWo"
      }
    },
    {
      "cell_type": "code",
      "source": [
        "# Verificar os tipos de dados no DataFrame\n",
        "print(df_ab.dtypes)\n",
        "\n",
        "# Converter a coluna 'waterfront' em numérica\n",
        "df_ab['waterfront'] = df_ab['waterfront'].map({'n': 0, 'y': 1})\n",
        "\n",
        "# Verifique se a conversão foi bem-sucedida\n",
        "print(df_ab['waterfront'].unique())\n",
        "\n",
        "# Calcular a correlação entre todas as variáveis\n",
        "correlacoes = df_ab.corr()['price']\n",
        "print(\"Correlação entre variáveis e preço:\")\n",
        "print(correlacoes)\n",
        "\n",
        "# Selecionar apenas colunas numéricas\n",
        "df_numerico = df_ab.select_dtypes(include=['number'])\n",
        "\n",
        "# Calcular a correlação novamente\n",
        "correlacoes_numericas = df_numerico.corr()['price']\n",
        "print(\"Correlação entre variáveis numéricas e preço:\")\n",
        "print(correlacoes_numericas)\n",
        "\n"
      ],
      "metadata": {
        "id": "PIUcdjXE5SvM"
      },
      "execution_count": null,
      "outputs": []
    },
    {
      "cell_type": "markdown",
      "source": [
        " Calcular a Média e Mediana dos Preços\n",
        "\n",
        "Você pode calcular a média e mediana dos preços para casas com e sem waterfront. Isso ajudará a entender melhor a distribuição dos preços."
      ],
      "metadata": {
        "id": "xtgUxZIA-8k8"
      }
    },
    {
      "cell_type": "code",
      "source": [
        "# Calcular a média e mediana dos preços para casas com e sem waterfront\n",
        "media_preco = df_ab.groupby('waterfront')['price'].mean()\n",
        "mediana_preco = df_ab.groupby('waterfront')['price'].median()\n",
        "\n",
        "print(\"Média dos preços:\")\n",
        "print(media_preco)\n",
        "print(\"\\nMediana dos preços:\")\n",
        "print(mediana_preco)\n"
      ],
      "metadata": {
        "id": "VkQmBWM4--54"
      },
      "execution_count": null,
      "outputs": []
    },
    {
      "cell_type": "markdown",
      "source": [
        "Criar Boxplots para Visualização\n",
        "\n",
        "Boxplots são uma ótima maneira de visualizar a distribuição dos preços em relação à presença de waterfront. Você pode usar a biblioteca matplotlib ou seaborn para isso.\n"
      ],
      "metadata": {
        "id": "za6rZRUh_EyL"
      }
    },
    {
      "cell_type": "code",
      "source": [
        "import seaborn as sns\n",
        "import matplotlib.pyplot as plt\n",
        "\n",
        "# Criar um boxplot para visualizar a distribuição de preços\n",
        "plt.figure(figsize=(10, 6))\n",
        "sns.boxplot(x='waterfront', y='price', data=df_ab)\n",
        "plt.title('Distribuição de Preços das Casas com e sem Waterfront')\n",
        "plt.xlabel('Waterfront')\n",
        "plt.ylabel('Price')\n",
        "plt.xticks([0, 1], ['Sem Waterfront', 'Com Waterfront'])\n",
        "plt.show()\n"
      ],
      "metadata": {
        "id": "zgUTiITq_MT8"
      },
      "execution_count": null,
      "outputs": []
    },
    {
      "cell_type": "markdown",
      "source": [
        "Analisar Outras Características\n",
        "\n",
        "Você também pode analisar como outras características das casas (como localização, número de quartos, etc.) influenciam o preço. Isso pode ser feito através de gráficos de dispersão ou análises de regressão.\n",
        "\n",
        "Exemplo: Gráfico de Dispersão"
      ],
      "metadata": {
        "id": "35Ev4PNX_QD7"
      }
    },
    {
      "cell_type": "code",
      "source": [
        "# Gráfico de dispersão entre sqft_living e price\n",
        "plt.figure(figsize=(10, 6))\n",
        "sns.scatterplot(x='sqft_living', y='price', hue='waterfront', data=df_ab, alpha=0.7)\n",
        "plt.title('Relação entre Área Total e Preço')\n",
        "plt.xlabel('Área Total (sqft_living)')\n",
        "plt.ylabel('Preço')\n",
        "plt.legend(title='Waterfront', loc='upper left', labels=['Sem Waterfront', 'Com Waterfront'])\n",
        "plt.show()\n"
      ],
      "metadata": {
        "id": "YQkjlDSU_V1l"
      },
      "execution_count": null,
      "outputs": []
    },
    {
      "cell_type": "markdown",
      "source": [
        "Considerando a base de dados car_price.csv responda as questões de 7 a 11\n",
        "abaixo:"
      ],
      "metadata": {
        "id": "0_Yj1YVJrTOc"
      }
    },
    {
      "cell_type": "markdown",
      "source": [
        "7. Codifique e exiba a Matriz de correlação para as variáveis numéricas e\n",
        "dê exemplos de correlações positivas, negativas e neutras."
      ],
      "metadata": {
        "id": "V6fJKD8xrXkM"
      }
    },
    {
      "cell_type": "code",
      "source": [],
      "metadata": {
        "id": "mvKjOHGGrayq"
      },
      "execution_count": null,
      "outputs": []
    },
    {
      "cell_type": "markdown",
      "source": [
        "8. Codifique e exiba Gráficos de Dispersão para cada uma das variáveis\n",
        "numéricas em relação à variável de interesse Price."
      ],
      "metadata": {
        "id": "UFG2e-EArbLo"
      }
    },
    {
      "cell_type": "code",
      "source": [],
      "metadata": {
        "id": "d9w5hWx6rd3a"
      },
      "execution_count": null,
      "outputs": []
    },
    {
      "cell_type": "markdown",
      "source": [
        "9. Crie um modelo de Regressão Linear Simples, exiba a Tabela de\n",
        "Regressão e exiba o plot da Reta Estimada."
      ],
      "metadata": {
        "id": "WlTtAI2HreYC"
      }
    },
    {
      "cell_type": "code",
      "source": [],
      "metadata": {
        "id": "plNauvDpriE9"
      },
      "execution_count": null,
      "outputs": []
    },
    {
      "cell_type": "markdown",
      "source": [
        "10. Codifique e exiba o gráfico dos resíduos do modelo de Regressão\n",
        "Simples."
      ],
      "metadata": {
        "id": "drDyMFXgrlep"
      }
    },
    {
      "cell_type": "code",
      "source": [],
      "metadata": {
        "id": "59vBZG43rmJQ"
      },
      "execution_count": null,
      "outputs": []
    },
    {
      "cell_type": "markdown",
      "source": [
        "11. Crie um modelo de Regressão Multivariada, exiba a Tabela de Regressão\n",
        "e exiba o gráfico dos resíduos do modelo."
      ],
      "metadata": {
        "id": "mhOV4mq0rouX"
      }
    },
    {
      "cell_type": "code",
      "source": [],
      "metadata": {
        "id": "UHuM23uPrpXV"
      },
      "execution_count": null,
      "outputs": []
    },
    {
      "cell_type": "markdown",
      "source": [],
      "metadata": {
        "id": "9hkGrGcqrp0A"
      }
    }
  ]
}